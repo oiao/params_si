{
 "cells": [
  {
   "cell_type": "code",
   "execution_count": 1,
   "metadata": {},
   "outputs": [
    {
     "name": "stdout",
     "output_type": "stream",
     "text": [
      "ParAMS Version used: 0.3\n"
     ]
    }
   ],
   "source": [
    "import os, sys\n",
    "import numpy as np\n",
    "from os.path    import join as opj\n",
    "from itertools  import combinations\n",
    "from scm.params import *\n",
    "from scm.params import __version__ as paramsver\n",
    "print(f\"ParAMS Version used: {paramsver}\")\n",
    "\n",
    "INDIR = '../data'\n",
    "if not os.path.exists(INDIR):\n",
    "    os.makedirs(INDIR)"
   ]
  },
  {
   "cell_type": "markdown",
   "metadata": {},
   "source": [
    "\n",
    "# Step 0: Auxiliary functions\n",
    "The following functions are required additionally required for the optimization."
   ]
  },
  {
   "cell_type": "markdown",
   "metadata": {},
   "source": [
    "Müller and Hartke provide the reference gradients as external files. This function adds them to the data set"
   ]
  },
  {
   "cell_type": "code",
   "execution_count": 2,
   "metadata": {},
   "outputs": [],
   "source": [
    "def add_grads(path, dataset):\n",
    "    for i in os.listdir(path):\n",
    "        if i.endswith('gradient'):\n",
    "            name = i.rstrip('.gradient')\n",
    "            grads = np.loadtxt(opj(path, i), skiprows=1, usecols=(1,2,3))\n",
    "            for id,at in enumerate(grads):\n",
    "                for xyz,value in enumerate(at):\n",
    "                    dataset.add_entry(f'force(\"{name}\", {id}, {xyz})', weight=0.01, reference=-value)"
   ]
  },
  {
   "cell_type": "markdown",
   "metadata": {},
   "source": [
    "ParAMS can handle constraints, if those are known. The following constraints the covalent raddii parameter to $r_0^\\sigma \\geq r_0^\\pi$, $r_0^\\pi \\geq r_0^{\\pi\\pi}$ for every atom pair:"
   ]
  },
  {
   "cell_type": "code",
   "execution_count": 3,
   "metadata": {},
   "outputs": [],
   "source": [
    "def get_constraints(x):\n",
    "    pre_atoms = ['C:', 'H:', 'O:', 'S:']\n",
    "    pre_offd = [f\"{'.'.join(i)}:\" for i in combinations(['C', 'H', 'O', 'S'], 2)]\n",
    "    pre_bnds = pre_offd + ['C.C:', 'H.H:', 'O.O:', 'S.S:']\n",
    "    const = []\n",
    "    for pre in pre_atoms:\n",
    "        sigma = f\"{pre}r_0^sigma;;2;;Sigma bond covalent radius\"\n",
    "        pi    = f\"{pre}r_0^pi;;2;;Pi bond covalent radius\"\n",
    "        pi2   = f\"{pre}r_0^pi;;2;;Double pi bond covalent radius\"\n",
    "        const += [x[sigma] >= x[pi], x[pi] >= x[pi2]]\n",
    "    for pre in pre_offd:\n",
    "        sigma = f\"{pre}r_0^sigma;;2;;Sigma bond length\"\n",
    "        pi    = f\"{pre}r_0^pi;;2;;Pi bond length\"\n",
    "        pi2   = f\"{pre}r_0^pipi;;2;;PiPi bond length\"\n",
    "        const += [x[sigma] >= x[pi], x[pi] >= x[pi2]]\n",
    "    return const"
   ]
  },
  {
   "cell_type": "markdown",
   "metadata": {},
   "source": [
    "# Step 1: Convert from the old ReaxFF format to ParAMS"
   ]
  },
  {
   "cell_type": "markdown",
   "metadata": {},
   "source": [
    "We start with the job collection:"
   ]
  },
  {
   "cell_type": "code",
   "execution_count": 4,
   "metadata": {},
   "outputs": [
    {
     "name": "stdout",
     "output_type": "stream",
     "text": [
      "The following jobIDs are in *both* the training and validation sets:\n",
      "dmds\n",
      "s8\n",
      "dpds\n",
      "dpods\n",
      "\n"
     ]
    }
   ],
   "source": [
    "jc1 = geo_to_params('../MH/optInput/geo', normal_run_settings='../MH/control')\n",
    "jc2 = geo_to_params('../MH/valSet/geo',   normal_run_settings='../MH/control')\n",
    "\n",
    "print('The following jobIDs are in *both* the training and validation sets:')\n",
    "print(\"\\n\".join([i for i in jc1.keys() if i in jc2])+'\\n')"
   ]
  },
  {
   "cell_type": "markdown",
   "metadata": {},
   "source": [
    "Join the sets into one job collection, tell AMS that Gradients need to be computed and append the link to the original publication in the metadata:"
   ]
  },
  {
   "cell_type": "code",
   "execution_count": 5,
   "metadata": {},
   "outputs": [],
   "source": [
    "jc  = jc1 + jc2\n",
    "\n",
    "for e in jc.values():\n",
    "    e.metadata['Source'] = 'https://doi.org/10.1021/acs.jctc.6b00461'\n",
    "    e.settings.input.ams.properties.gradients = True \n",
    "    \n",
    "jc.store(opj(INDIR, 'jobcollection.yml'))"
   ]
  },
  {
   "cell_type": "markdown",
   "metadata": {},
   "source": [
    "Now convert the data sets:"
   ]
  },
  {
   "cell_type": "code",
   "execution_count": 6,
   "metadata": {},
   "outputs": [],
   "source": [
    "train_set = trainset_to_params('../MH/optInput/trainset.in')\n",
    "val_set  =  trainset_to_params('../MH/valSet/trainset.in')\n",
    "add_grads('../MH/optInput/grads', train_set)\n",
    "\n",
    "for e in train_set+val_set:\n",
    "    e.metadata['Source'] = 'https://doi.org/10.1021/acs.jctc.6b00461'\n",
    "\n",
    "train_set.store(opj(INDIR, 'trainingset.yml'))\n",
    "val_set.store(  opj(INDIR, 'validationset.yml'))"
   ]
  },
  {
   "cell_type": "markdown",
   "metadata": {},
   "source": [
    "# Step 2: Calculate the Loss value for $x_0$"
   ]
  },
  {
   "cell_type": "markdown",
   "metadata": {},
   "source": [
    "Our parameter interface that will be parameterized: ReaxFF"
   ]
  },
  {
   "cell_type": "code",
   "execution_count": 7,
   "metadata": {},
   "outputs": [],
   "source": [
    "x0 = ReaxParams('../MH/mue2016', 1.25) # Scale bounds by +-1.25x0"
   ]
  },
  {
   "cell_type": "code",
   "execution_count": 8,
   "metadata": {
    "scrolled": true
   },
   "outputs": [
    {
     "name": "stdout",
     "output_type": "stream",
     "text": [
      "Running x0 ...\n",
      "Training Set   f(x) = 1.257e+04\n",
      "Validation Set f(x) = 8.936e+03\n",
      "\n",
      "Published training set value is 12393\n",
      "(https://doi.org/10.1021/acs.jctc.6b00461)\n"
     ]
    }
   ],
   "source": [
    "print('Running x0 ...')\n",
    "engine = x0.get_engine()\n",
    "r  = jc.run(engine.settings)\n",
    "fx = train_set.evaluate({i.name : i for i in r})\n",
    "print(f'Training Set   f(x) = {fx:.3e}')\n",
    "fx = val_set.evaluate({i.name : i for i in r},)\n",
    "print(f'Validation Set f(x) = {fx:.3e}\\n')\n",
    "print('Published training set value is 12393\\n(https://doi.org/10.1021/acs.jctc.6b00461)')"
   ]
  },
  {
   "cell_type": "markdown",
   "metadata": {},
   "source": [
    "# Step 3: Select the most sensitive parameters"
   ]
  },
  {
   "cell_type": "code",
   "execution_count": 9,
   "metadata": {
    "scrolled": true
   },
   "outputs": [
    {
     "name": "stdout",
     "output_type": "stream",
     "text": [
      "Searching for the most sensitive parameters ...\n",
      "Done\n"
     ]
    }
   ],
   "source": [
    "print('Searching for the most sensitive parameters ...')\n",
    "if not os.path.exists('aps.npz'):\n",
    "    aps    = ActiveParameterSearch(x0, val_set, jc)\n",
    "    aps.scan(steps=[1.05], verbose=False)\n",
    "    aps.save('aps.npz')\n",
    "else:\n",
    "    aps = ActiveParameterSearch(x0, val_set, jc, 'aps.npz')\n",
    "print('Done')"
   ]
  },
  {
   "cell_type": "code",
   "execution_count": 10,
   "metadata": {
    "scrolled": true
   },
   "outputs": [
    {
     "name": "stdout",
     "output_type": "stream",
     "text": [
      "Total number of  parameters before the scan: 701\n",
      "Number of active parameters before the scan: 619\n",
      "Number of active parameters after  the scan: 50\n"
     ]
    }
   ],
   "source": [
    "print(f\"Total number of  parameters before the scan: {len(x0)}\")\n",
    "print(f\"Number of active parameters before the scan: {x0.is_active.count(True)}\")\n",
    "x0.is_active = aps.get_is_active(50)\n",
    "print(f\"Number of active parameters after  the scan: {x0.is_active.count(True)}\")"
   ]
  },
  {
   "cell_type": "markdown",
   "metadata": {},
   "source": [
    "# Step 4: Start the optimization"
   ]
  },
  {
   "cell_type": "code",
   "execution_count": 11,
   "metadata": {},
   "outputs": [
    {
     "name": "stdout",
     "output_type": "stream",
     "text": [
      "Optimization() Instance Settings:\n",
      "=================================\n",
      "Workdir:                           opt\n",
      "JobCollection size:                458\n",
      "Interface:                         ReaxParams\n",
      "Active parameters:                 50\n",
      "Optimizer:                         CMAOptimizer\n",
      "Callbacks:                         Logger\n",
      "                                   Timeout\n",
      "                                   TimePerEval\n",
      "                                   EarlyStopping\n",
      "Constraints:                       Constraint(p[39]<=p[45])\n",
      "                                   Constraint(p[45]<=p[55])\n",
      "                                   Constraint(p[71]<=p[77])\n",
      "                                   Constraint(p[77]<=p[87])\n",
      "                                   Constraint(p[103]<=p[109])\n",
      "                                   Constraint(p[109]<=p[119])\n",
      "                                   Constraint(p[135]<=p[141])\n",
      "                                   Constraint(p[141]<=p[151])\n",
      "                                   Constraint(p[330]<=p[331])\n",
      "                                   Constraint(p[331]<=p[332])\n",
      "                                   Constraint(p[336]<=p[337])\n",
      "                                   Constraint(p[337]<=p[338])\n",
      "                                   Constraint(p[342]<=p[343])\n",
      "                                   Constraint(p[343]<=p[344])\n",
      "                                   Constraint(p[348]<=p[349])\n",
      "                                   Constraint(p[349]<=p[350])\n",
      "                                   Constraint(p[354]<=p[355])\n",
      "                                   Constraint(p[355]<=p[356])\n",
      "                                   Constraint(p[360]<=p[361])\n",
      "                                   Constraint(p[361]<=p[362])\n",
      "\n",
      "Evaluators:\n",
      "-----------\n",
      "Name:                              trainingset (_LossEvaluator)\n",
      "Loss:                              SSE\n",
      "Evaluation frequency:              1\n",
      "\n",
      "Data Set entries:                  4875\n",
      "Data Set jobs:                     231\n",
      "Batch size:                        None\n",
      "\n",
      "CPU cores:                         6\n",
      "Use PIPE:                          True\n",
      "---\n",
      "Name:                              validationset (_LossEvaluator)\n",
      "Loss:                              SSE\n",
      "Evaluation frequency:              1\n",
      "\n",
      "Data Set entries:                  970\n",
      "Data Set jobs:                     224\n",
      "Batch size:                        None\n",
      "\n",
      "CPU cores:                         6\n",
      "Use PIPE:                          True\n",
      "---\n",
      "===\n"
     ]
    }
   ],
   "source": [
    "o            = CMAOptimizer(popsize=15, sigma=0.5)\n",
    "callbacks    = [Logger(), Timeout(60*60*8), TimePerEval(10), EarlyStopping(6000)]\n",
    "constraints  = get_constraints(x0)\n",
    "optimization = Optimization(jc, [train_set, val_set], x0, o, callbacks=callbacks, constraints=constraints)\n",
    "optimization.summary()"
   ]
  },
  {
   "cell_type": "markdown",
   "metadata": {},
   "source": [
    "The following will start the optimization (we will not show the output, as running it thourgh Jupyer is buggy):"
   ]
  },
  {
   "cell_type": "code",
   "execution_count": 13,
   "metadata": {
    "scrolled": false
   },
   "outputs": [],
   "source": [
    "# optimization.optimize()"
   ]
  }
 ],
 "metadata": {
  "kernelspec": {
   "display_name": "Python 3",
   "language": "python",
   "name": "python3"
  },
  "language_info": {
   "codemirror_mode": {
    "name": "ipython",
    "version": 3
   },
   "file_extension": ".py",
   "mimetype": "text/x-python",
   "name": "python",
   "nbconvert_exporter": "python",
   "pygments_lexer": "ipython3",
   "version": "3.7.3"
  }
 },
 "nbformat": 4,
 "nbformat_minor": 2
}
