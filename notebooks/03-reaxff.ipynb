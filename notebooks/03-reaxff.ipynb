{
 "cells": [
  {
   "cell_type": "markdown",
   "metadata": {},
   "source": [
    "This is part of the supporting information for the paper  \n",
    "*ParAMS: Parameter Optimization for Atomistic and Molecular Models* (DOI: *123123*)  \n",
    "The full documentation can be found at https://www.scm.com/doc.trunk/params/index.html\n",
    "\n",
    "# Optimization: Original Setup\n",
    "\n",
    "This Notebook sets up the optimization of the [Mue2016](https://doi.org/10.1021/acs.jctc.6b00461) force field for ReaxFF as published by Müller and Hartke (MH). It aims to retain most of the settings that were discussed in the original publication for the sake of a comparison. Specifically, the same parameters will be optimizied within the same bounds as in the original publication. This setup differs from the MH publication in the following:\n",
    "\n",
    "* The initial point $x_0$ for this optimization is the already optimized force field as found by MH, possibly giving this optimization an advantage\n",
    "* Optimizer related settings could not be considered as we are using a differend algorithm altogether: CMA-ES rather than OGOLEM\n",
    "\n",
    "This notebook assumes that you have MH's supporting information downloaded and extracted into *../MH*\n",
    " "
   ]
  },
  {
   "cell_type": "code",
   "execution_count": 7,
   "metadata": {},
   "outputs": [
    {
     "name": "stdout",
     "output_type": "stream",
     "text": [
      "ParAMS Version used: 0.5.0\n"
     ]
    }
   ],
   "source": [
    "import os, sys\n",
    "import numpy as np\n",
    "from os.path    import join as opj\n",
    "from scm.params import *\n",
    "from scm.params.experimental import ActiveParameterSearch\n",
    "from scm.params import __version__ as paramsver\n",
    "print(f\"ParAMS Version used: {paramsver}\")\n",
    "\n",
    "INDIR = '../data/reaxff'\n",
    "if not os.path.exists(INDIR):\n",
    "    os.makedirs(INDIR)"
   ]
  },
  {
   "cell_type": "markdown",
   "metadata": {},
   "source": [
    "\n",
    "# Step 0: Auxiliary functions\n",
    "Müller and Hartke provide the reference gradients as external files. This function adds them to the data set:"
   ]
  },
  {
   "cell_type": "code",
   "execution_count": 8,
   "metadata": {},
   "outputs": [],
   "source": [
    "def add_grads(path, dataset):\n",
    "    for i in os.listdir(path):\n",
    "        if i.endswith('gradient'):\n",
    "            name = i.rstrip('.gradient')\n",
    "            grads = np.loadtxt(opj(path, i), skiprows=1, usecols=(1,2,3))\n",
    "            for id,at in enumerate(grads):\n",
    "                for xyz,value in enumerate(at):\n",
    "                    dataset.add_entry(f'forces(\"{name}\", {id}, {xyz})', 1., sigma=0.01, reference=-value)"
   ]
  },
  {
   "cell_type": "markdown",
   "metadata": {},
   "source": [
    "Evaluate and print force field losses for the training and validation sets:"
   ]
  },
  {
   "cell_type": "code",
   "execution_count": 9,
   "metadata": {},
   "outputs": [],
   "source": [
    "def printloss(ffpath):\n",
    "    params  = ReaxParams(ffpath)\n",
    "    results = jc.run(params)\n",
    "    vsloss  = val_set.evaluate(results, loss='sse')\n",
    "    tsloss  = train_set.evaluate(results, loss='sse')\n",
    "    print(f\"Training   Set loss: {tsloss:.2f}\")\n",
    "    print(f\"Validation Set loss: {vsloss:.2f}\")"
   ]
  },
  {
   "cell_type": "markdown",
   "metadata": {},
   "source": [
    "Load the Mue2016 force field with proper ranges:"
   ]
  },
  {
   "cell_type": "code",
   "execution_count": 19,
   "metadata": {},
   "outputs": [],
   "source": [
    "def get_mue16():\n",
    "    ff     = ReaxParams('../MH/mue2016')\n",
    "    ffbool = ReaxParams('../MH/ffield_bool')\n",
    "    ffmin  = ReaxParams('../MH/ffield_min')\n",
    "    ffmax  = ReaxParams('../MH/ffield_max')\n",
    "    ff.range = [(pmi.value, pma.value) for pmi,pma in zip(ffmin, ffmax)]\n",
    "    ff.is_active = [True if p == 1 else False for p in ffbool.x]\n",
    "    return ff"
   ]
  },
  {
   "cell_type": "markdown",
   "metadata": {},
   "source": [
    "\n",
    "# Step 1: Convert from the old ReaxFF format to ParAMS"
   ]
  },
  {
   "cell_type": "markdown",
   "metadata": {},
   "source": [
    "We start with the job collection:"
   ]
  },
  {
   "cell_type": "code",
   "execution_count": 11,
   "metadata": {},
   "outputs": [
    {
     "name": "stdout",
     "output_type": "stream",
     "text": [
      "The following jobIDs are in *both*, the training and validation set:\n",
      "\n",
      "dmds\n",
      "s8\n",
      "dpds\n",
      "dpods\n",
      "\n"
     ]
    }
   ],
   "source": [
    "jc1 = geo_to_params('../MH/optInput/geo', normal_run_settings='../MH/control')\n",
    "jc2 = geo_to_params('../MH/valSet/geo',   normal_run_settings='../MH/control')\n",
    "\n",
    "print('The following jobIDs are in *both*, the training and validation set:\\n')\n",
    "print(\"\\n\".join([i for i in jc1.keys() if i in jc2])+'\\n')"
   ]
  },
  {
   "cell_type": "markdown",
   "metadata": {},
   "source": [
    "Join the sets into one job collection, tell AMS that Gradients need to be computed and append the link to the original publication in the metadata:"
   ]
  },
  {
   "cell_type": "code",
   "execution_count": 12,
   "metadata": {},
   "outputs": [],
   "source": [
    "jc  = jc1 + jc2\n",
    "\n",
    "for e in jc.values():\n",
    "    e.metadata['Source'] = 'https://doi.org/10.1021/acs.jctc.6b00461'\n",
    "    e.settings.input.ams.properties.gradients = True \n",
    "    \n",
    "jc.store(opj(INDIR, 'jobcollection.yml'))"
   ]
  },
  {
   "cell_type": "markdown",
   "metadata": {},
   "source": [
    "Now convert the data sets:"
   ]
  },
  {
   "cell_type": "code",
   "execution_count": 13,
   "metadata": {},
   "outputs": [],
   "source": [
    "train_set = trainset_to_params('../MH/optInput/trainset.in')\n",
    "val_set  =  trainset_to_params('../MH/valSet/trainset.in')\n",
    "add_grads('../MH/optInput/grads', train_set)\n",
    "\n",
    "for ds in [train_set, val_set]:\n",
    "    for e in ds:\n",
    "        e.metadata['Source'] = 'https://doi.org/10.1021/acs.jctc.6b00461'\n",
    "\n",
    "train_set.store(opj(INDIR, 'trainingset.yml'))\n",
    "val_set.store(  opj(INDIR, 'validationset.yml'))"
   ]
  },
  {
   "cell_type": "markdown",
   "metadata": {},
   "source": [
    "# Step 2: Calculate the loss value of Mue2016"
   ]
  },
  {
   "cell_type": "code",
   "execution_count": 8,
   "metadata": {
    "scrolled": true
   },
   "outputs": [
    {
     "name": "stdout",
     "output_type": "stream",
     "text": [
      "Training   Set loss: 14441.00\n",
      "Validation Set loss: 14450.95\n",
      "\n",
      "Published training set value is 12393\n",
      "(https://doi.org/10.1021/acs.jctc.6b00461)\n",
      "\n",
      "A more recent publication reports a training set value of 16271\n",
      "(https://doi.org/10.1021/acs.jctc.9b00769)\n"
     ]
    }
   ],
   "source": [
    "printloss('../MH/mue2016')\n",
    "print()\n",
    "print('Published training set value is 12393\\n(https://doi.org/10.1021/acs.jctc.6b00461)\\n')\n",
    "print('A more recent publication reports a training set value of 16271\\n(https://doi.org/10.1021/acs.jctc.9b00769)')"
   ]
  },
  {
   "cell_type": "markdown",
   "metadata": {},
   "source": [
    "# Step 3: Select the most sensitive parameters\n",
    "The parameter interface we want to optimize:"
   ]
  },
  {
   "cell_type": "code",
   "execution_count": 14,
   "metadata": {},
   "outputs": [],
   "source": [
    "x0 = ReaxParams('../MH/mue2016', bounds_scale=1.2)"
   ]
  },
  {
   "cell_type": "markdown",
   "metadata": {
    "scrolled": true
   },
   "source": [
    "The following translates to a one-dimensional scan of every parameter to determine which ones produce the highest response in the validation set's loss value.  It is also possible to scan all possible $k$ parameter combinations, although this would drastically increase the computational time:"
   ]
  },
  {
   "cell_type": "code",
   "execution_count": 15,
   "metadata": {},
   "outputs": [
    {
     "name": "stdout",
     "output_type": "stream",
     "text": [
      "Loading previous results\n",
      "Done\n"
     ]
    }
   ],
   "source": [
    "if not os.path.exists(opj(INDIR, 'aps.npz')):\n",
    "    print('Searching for the most sensitive parameters ...')\n",
    "    aps    = ActiveParameterSearch(x0, val_set, jc)\n",
    "    aps.scan(steps=[1.05], verbose=False)\n",
    "    aps.save(opj(INDIR, 'aps.npz'))\n",
    "else:\n",
    "    print('Loading previous results')\n",
    "    aps = ActiveParameterSearch(x0, val_set, jc, opj(INDIR, 'aps.npz'))\n",
    "print('Done')"
   ]
  },
  {
   "cell_type": "markdown",
   "metadata": {},
   "source": [
    "Select the most sensitive 35 parameters for optimization:"
   ]
  },
  {
   "cell_type": "code",
   "execution_count": 16,
   "metadata": {},
   "outputs": [
    {
     "name": "stdout",
     "output_type": "stream",
     "text": [
      "Total number of paramters in force field: 701\n",
      "Number of paramters to be optimized before setting: 619\n",
      "Number of paramters to be optimized after setting:  35\n"
     ]
    }
   ],
   "source": [
    "print(f\"Total number of paramters in force field: {len(x0)}\")\n",
    "print(f\"Number of paramters to be optimized before setting: {len(x0.active)}\")\n",
    "x0.is_active = aps.get_is_active(35)\n",
    "print(f\"Number of paramters to be optimized after setting:  {len(x0.active)}\")"
   ]
  },
  {
   "cell_type": "markdown",
   "metadata": {},
   "source": [
    "Print the selected paramter names (for more details regarding the paramters, refer to the [ReaxFF Documentation](https://www.scm.com/doc/ReaxFF/ffield_descrp.html#ffield)):"
   ]
  },
  {
   "cell_type": "code",
   "execution_count": 17,
   "metadata": {},
   "outputs": [
    {
     "name": "stdout",
     "output_type": "stream",
     "text": [
      "C:Val_i;;3a,4b,5,9a;;Valency\n",
      "C:r_0^pi;;2;;Pi bond covalent radius\n",
      "C:alpha_ij;;23b;;van der Waals parameter\n",
      "C:p_val3;;13b,13a;;Valence angle parameter\n",
      "H:r_vdW;;23a;;van der Waals radius\n",
      "H:Val_i^e;;7,8,9;;Number of valence electrons\n",
      "H:chi_i;;24,25;;EEM electronegativity\n",
      "S:r_0^sigma;;2;;Sigma bond covalent radius\n",
      "S:r_vdW;;23a;;van der Waals radius\n",
      "S:alpha_ij;;23b;;van der Waals parameter\n",
      "S:chi_i;;24,25;;EEM electronegativity\n",
      "C.S:p_bo2;;2;;Sigma bond order\n",
      "S.S:p_bo2;;2;;Sigma bond order\n",
      "C.H:r_vdW;;23a;;VdW radius\n",
      "C.H:alpha_ij;;23a;;VdW parameter\n",
      "C.H:r_0^sigma;;2;;Sigma bond length\n",
      "C.O:alpha_ij;;23a;;VdW parameter\n",
      "C.O:r_0^pi;;2;;Pi bond length\n",
      "C.S:r_vdW;;23a;;VdW radius\n",
      "C.S:alpha_ij;;23a;;VdW parameter\n",
      "C.S:r_0^sigma;;2;;Sigma bond length\n",
      "H.S:r_vdW;;23a;;VdW radius\n",
      "H.S:alpha_ij;;23a;;VdW parameter\n",
      "H.S:r_0^sigma;;2;;Sigma bond length\n",
      "C.C.S:Theta_0,0;;13g;;180o-(equilibrium angle)\n",
      "C.C.S:p_coa1;;15;;Valence conjugation\n",
      "C.O.H:p_val1;;13a;;Valence angle parameter\n",
      "C.S.H:p_val7;;13c;;Undercoordination\n",
      "C.S.S:Theta_0,0;;13g;;180o-(equilibrium angle)\n",
      "H.S.S:p_coa1;;15;;Valence conjugation\n",
      "H.C.C.H:V_1;;16a;;V1-torsion barrier\n",
      "C.C.S.S:p_tor1;;16a;;Torsion angle parameter\n",
      "C.S.S.C:V_2;;16a;;V2-torsion barrier\n",
      "C.S.S.C:p_tor1;;16a;;Torsion angle parameter\n",
      "C.S.S.C:p_cot1;;17a;;Conjugation energy\n"
     ]
    }
   ],
   "source": [
    "for name in x0.active.names:\n",
    "    print(name)"
   ]
  },
  {
   "cell_type": "markdown",
   "metadata": {},
   "source": [
    "Print the intersection between the parameters that will be optimized and the parameters that MH optimized:"
   ]
  },
  {
   "cell_type": "code",
   "execution_count": 20,
   "metadata": {},
   "outputs": [
    {
     "name": "stdout",
     "output_type": "stream",
     "text": [
      "H.S:r_vdW;;23a;;VdW radius\n",
      "C.S:r_vdW;;23a;;VdW radius\n",
      "C:p_val3;;13b,13a;;Valence angle parameter\n",
      "H.S:alpha_ij;;23a;;VdW parameter\n",
      "S.S:p_bo2;;2;;Sigma bond order\n",
      "S:r_0^sigma;;2;;Sigma bond covalent radius\n",
      "C.S.S:Theta_0,0;;13g;;180o-(equilibrium angle)\n",
      "H.S:r_0^sigma;;2;;Sigma bond length\n",
      "C.S:p_bo2;;2;;Sigma bond order\n",
      "C.C.S:Theta_0,0;;13g;;180o-(equilibrium angle)\n",
      "C.S:r_0^sigma;;2;;Sigma bond length\n",
      "S:r_vdW;;23a;;van der Waals radius\n",
      "C.S:alpha_ij;;23a;;VdW parameter\n",
      "C.S.S.C:V_2;;16a;;V2-torsion barrier\n",
      "S:alpha_ij;;23b;;van der Waals parameter\n",
      "C.S.S.C:p_tor1;;16a;;Torsion angle parameter\n"
     ]
    }
   ],
   "source": [
    "mue16 = get_mue16()\n",
    "for name in set(mue16.active.names) & set(x0.active.names):\n",
    "    print(name)"
   ]
  },
  {
   "cell_type": "markdown",
   "metadata": {},
   "source": [
    "# Step 4: Start the optimization\n",
    "Note that in the following cell, the timeout is set to 60 seconds for demonstrational purposes."
   ]
  },
  {
   "cell_type": "code",
   "execution_count": 13,
   "metadata": {},
   "outputs": [],
   "source": [
    "o            = CMAOptimizer(popsize=36, sigma=0.3)\n",
    "callbacks    = [Logger(), Timeout(60), TimePerEval(10), EarlyStopping(6000, watch='validationset')]\n",
    "optimization = Optimization(jc, [train_set, val_set], x0, o, callbacks=callbacks)"
   ]
  },
  {
   "cell_type": "code",
   "execution_count": 14,
   "metadata": {},
   "outputs": [
    {
     "name": "stdout",
     "output_type": "stream",
     "text": [
      "Optimization() Instance Settings:\n",
      "=================================\n",
      "Workdir:                           /home/opt\n",
      "JobCollection size:                458\n",
      "Interface:                         ReaxParams\n",
      "Active parameters:                 35\n",
      "Optimizer:                         CMAOptimizer\n",
      "Parallelism:                       ParallelLevels(optimizations=1, parametervectors=6, jobs=1, processes=1, threads=1)\n",
      "Verbose:                           True\n",
      "Callbacks:                         Logger\n",
      "                                   Timeout\n",
      "                                   TimePerEval\n",
      "                                   EarlyStopping\n",
      "PLAMS workdir path:                /tmp\n",
      "\n",
      "Evaluators:\n",
      "-----------\n",
      "Name:                              trainingset (_LossEvaluator)\n",
      "Loss:                              SSE\n",
      "Evaluation frequency:              1\n",
      "\n",
      "Data Set entries:                  4875\n",
      "Data Set jobs:                     231\n",
      "Batch size:                        None\n",
      "\n",
      "Use PIPE:                          True\n",
      "---\n",
      "Name:                              validationset (_LossEvaluator)\n",
      "Loss:                              SSE\n",
      "Evaluation frequency:              1\n",
      "\n",
      "Data Set entries:                  970\n",
      "Data Set jobs:                     224\n",
      "Batch size:                        None\n",
      "\n",
      "Use PIPE:                          True\n",
      "---\n",
      "===\n"
     ]
    }
   ],
   "source": [
    "optimization.summary()"
   ]
  },
  {
   "cell_type": "markdown",
   "metadata": {},
   "source": [
    "Start the optimization:"
   ]
  },
  {
   "cell_type": "code",
   "execution_count": 15,
   "metadata": {
    "scrolled": false
   },
   "outputs": [
    {
     "name": "stdout",
     "output_type": "stream",
     "text": [
      "[2021-02-13 17:19:17] Starting parameter optimization.\n",
      "[2021-02-13 17:19:21] Initial loss: 1.444e+04\n",
      "[2021-02-13 17:19:27] Best trainingset loss: 7.261e+06\n",
      "[2021-02-13 17:19:28] Best trainingset loss: 2.535e+06\n",
      "[2021-02-13 17:19:30] Best trainingset loss: 3.535e+05\n",
      "[2021-02-13 17:19:57] Time per f-evaluation (trainingset): 0:00:03.749031\n",
      "[2021-02-13 17:20:13] Best trainingset loss: 2.006e+05\n",
      "[2021-02-13 17:20:14] Time per f-evaluation (validationset): 0:00:03.373102\n",
      "[2021-02-13 17:20:22] Best trainingset loss: 1.570e+05\n",
      "[2021-02-13 17:20:29] Callback: Timeout\n",
      "[2021-02-13 17:20:32] Time per f-evaluation (trainingset): 0:00:03.213117\n",
      "[2021-02-13 17:20:42] Time per f-evaluation (validationset): 0:00:03.420483\n",
      "[2021-02-13 17:20:49] Optimization done after 0:01:32\n",
      "[2021-02-13 17:20:49] Final loss: 1.570e+05\n"
     ]
    }
   ],
   "source": [
    "result = optimization.optimize()"
   ]
  },
  {
   "cell_type": "markdown",
   "metadata": {},
   "source": [
    "# Step 5: Calculate the loss value of MueParAMS"
   ]
  },
  {
   "cell_type": "code",
   "execution_count": 16,
   "metadata": {},
   "outputs": [
    {
     "name": "stdout",
     "output_type": "stream",
     "text": [
      "Training   Set loss: 11876.57\n",
      "Validation Set loss: 5376.82\n"
     ]
    }
   ],
   "source": [
    "printloss(opj(INDIR,'MueParAMS.ff'))"
   ]
  }
 ],
 "metadata": {
  "kernelspec": {
   "display_name": "Python 3",
   "language": "python",
   "name": "python3"
  },
  "language_info": {
   "codemirror_mode": {
    "name": "ipython",
    "version": 3
   },
   "file_extension": ".py",
   "mimetype": "text/x-python",
   "name": "python",
   "nbconvert_exporter": "python",
   "pygments_lexer": "ipython3",
   "version": "3.7.3"
  }
 },
 "nbformat": 4,
 "nbformat_minor": 2
}
