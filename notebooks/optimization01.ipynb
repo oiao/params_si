{
 "cells": [
  {
   "cell_type": "markdown",
   "metadata": {},
   "source": [
    "This is part of the supporting information for the paper  \n",
    "*ParAMS: Parameter Fitting for Atomistic and Molecular Models* (DOI: *123123*)  \n",
    "The full documentation can be found at https://www.scm.com/doc.trunk/params/index.html\n",
    "\n",
    "# Optimization: Original Setup\n",
    "\n",
    "This Notebook sets up the optimization of the [Mue2016](https://doi.org/10.1021/acs.jctc.6b00461) force field for ReaxFF as published by Müller and Hartke (MH). It aims to retain most of the settings that were discussed in the original publication for the sake of a comparison. Specifically, the same parameters will be optimizied within the same bounds as in the original publication. This setup differs from the MH publication in the following:\n",
    "\n",
    "* The initial point $x_0$ for this optimization is the already optimized force field as found by MH, possibly giving this optimization an advantage\n",
    "* Optimizer related settings could not be considered as we are using a differend algorithm altogether: CMA-ES rather than OGOLEM\n",
    " "
   ]
  },
  {
   "cell_type": "code",
   "execution_count": 1,
   "metadata": {},
   "outputs": [
    {
     "name": "stdout",
     "output_type": "stream",
     "text": [
      "ParAMS Version used: 0.5.0\n"
     ]
    }
   ],
   "source": [
    "import os, sys\n",
    "import numpy as np\n",
    "from os.path    import join as opj\n",
    "from scm.params import *\n",
    "from scm.params import __version__ as paramsver\n",
    "print(f\"ParAMS Version used: {paramsver}\")\n",
    "\n",
    "INDIR = '../data'\n",
    "if not os.path.exists(INDIR):\n",
    "    os.makedirs(INDIR)"
   ]
  },
  {
   "cell_type": "markdown",
   "metadata": {},
   "source": [
    "\n",
    "# Step 0: Auxiliary functions\n",
    "Müller and Hartke provide the reference gradients as external files. This function adds them to the data set"
   ]
  },
  {
   "cell_type": "code",
   "execution_count": 2,
   "metadata": {},
   "outputs": [],
   "source": [
    "def add_grads(path, dataset):\n",
    "    for i in os.listdir(path):\n",
    "        if i.endswith('gradient'):\n",
    "            name = i.rstrip('.gradient')\n",
    "            grads = np.loadtxt(opj(path, i), skiprows=1, usecols=(1,2,3))\n",
    "            for id,at in enumerate(grads):\n",
    "                for xyz,value in enumerate(at):\n",
    "                    dataset.add_entry(f'forces(\"{name}\", {id}, {xyz})', 1., sigma=0.01, reference=-value)"
   ]
  },
  {
   "cell_type": "markdown",
   "metadata": {},
   "source": [
    "# Step 1: Convert from the old ReaxFF format to ParAMS"
   ]
  },
  {
   "cell_type": "markdown",
   "metadata": {},
   "source": [
    "We start with the job collection:"
   ]
  },
  {
   "cell_type": "code",
   "execution_count": 3,
   "metadata": {},
   "outputs": [
    {
     "name": "stdout",
     "output_type": "stream",
     "text": [
      "The following jobIDs are in *both* the training and validation sets:\n",
      "dmds\n",
      "s8\n",
      "dpds\n",
      "dpods\n",
      "\n"
     ]
    }
   ],
   "source": [
    "jc1 = geo_to_params('../MH/optInput/geo', normal_run_settings='../MH/control')\n",
    "jc2 = geo_to_params('../MH/valSet/geo',   normal_run_settings='../MH/control')\n",
    "\n",
    "print('The following jobIDs are in *both* the training and validation sets:')\n",
    "print(\"\\n\".join([i for i in jc1.keys() if i in jc2])+'\\n')"
   ]
  },
  {
   "cell_type": "markdown",
   "metadata": {},
   "source": [
    "Join the sets into one job collection, tell AMS that Gradients need to be computed and append the link to the original publication in the metadata:"
   ]
  },
  {
   "cell_type": "code",
   "execution_count": 4,
   "metadata": {},
   "outputs": [],
   "source": [
    "jc  = jc1 + jc2\n",
    "\n",
    "for e in jc.values():\n",
    "    e.metadata['Source'] = 'https://doi.org/10.1021/acs.jctc.6b00461'\n",
    "    e.settings.input.ams.properties.gradients = True \n",
    "    \n",
    "jc.store(opj(INDIR, 'jobcollection.yml'))"
   ]
  },
  {
   "cell_type": "markdown",
   "metadata": {},
   "source": [
    "Now convert the data sets:"
   ]
  },
  {
   "cell_type": "code",
   "execution_count": 5,
   "metadata": {},
   "outputs": [],
   "source": [
    "train_set = trainset_to_params('../MH/optInput/trainset.in')\n",
    "val_set  =  trainset_to_params('../MH/valSet/trainset.in')\n",
    "add_grads('../MH/optInput/grads', train_set)\n",
    "\n",
    "for ds in [train_set, val_set]:\n",
    "    for e in ds:\n",
    "        e.metadata['Source'] = 'https://doi.org/10.1021/acs.jctc.6b00461'\n",
    "\n",
    "train_set.store(opj(INDIR, 'trainingset.yml'))\n",
    "val_set.store(  opj(INDIR, 'validationset.yml'))"
   ]
  },
  {
   "cell_type": "markdown",
   "metadata": {},
   "source": [
    "# Step 2: Calculate the Loss value for $x_0$"
   ]
  },
  {
   "cell_type": "markdown",
   "metadata": {},
   "source": [
    "Our parameter interface that will be parameterized: ReaxFF"
   ]
  },
  {
   "cell_type": "code",
   "execution_count": 6,
   "metadata": {},
   "outputs": [],
   "source": [
    "x0 = ReaxParams('../MH/mue2016')"
   ]
  },
  {
   "cell_type": "code",
   "execution_count": 7,
   "metadata": {
    "scrolled": true
   },
   "outputs": [
    {
     "name": "stdout",
     "output_type": "stream",
     "text": [
      "Running x0 ...\n",
      "Training Set   f(x) = 1.444e+04\n",
      "Validation Set f(x) = 1.479e+04\n",
      "\n",
      "Published training set value is 12393\n",
      "(https://doi.org/10.1021/acs.jctc.6b00461)\n",
      "\n",
      "A more recent publication reports a training set value of 16271\n",
      "(https://doi.org/10.1021/acs.jctc.9b00769)\n"
     ]
    }
   ],
   "source": [
    "print('Running x0 ...')\n",
    "engine = x0.get_engine()\n",
    "r  = jc.run(engine.settings)\n",
    "fx = train_set.evaluate(r)\n",
    "print(f'Training Set   f(x) = {fx:.3e}')\n",
    "fx = val_set.evaluate(r)\n",
    "print(f'Validation Set f(x) = {fx:.3e}\\n')\n",
    "print('Published training set value is 12393\\n(https://doi.org/10.1021/acs.jctc.6b00461)\\n')\n",
    "print('A more recent publication reports a training set value of 16271\\n(https://doi.org/10.1021/acs.jctc.9b00769)')"
   ]
  },
  {
   "cell_type": "markdown",
   "metadata": {},
   "source": [
    "# Step 3: Set active paramters and ranges\n",
    "In ReaxFF parameter fitting, `ffield_bool`, `ffield_min` and `ffield_max` are commonly used formats to specify which parameters should be optimized and their respective bounds. These can be easily handled by ParAMS."
   ]
  },
  {
   "cell_type": "code",
   "execution_count": 8,
   "metadata": {
    "scrolled": true
   },
   "outputs": [],
   "source": [
    "ff_min = ReaxParams(opj('..', 'MH', 'ffield_min'))\n",
    "ff_max = ReaxParams(opj('..', 'MH', 'ffield_max'))\n",
    "ff_bool= ReaxParams(opj('..', 'MH', 'ffield_bool'))"
   ]
  },
  {
   "cell_type": "markdown",
   "metadata": {},
   "source": [
    "The `range` attribute allows to define box constraints for every optimizer:"
   ]
  },
  {
   "cell_type": "code",
   "execution_count": 9,
   "metadata": {},
   "outputs": [],
   "source": [
    "x0.range = [(xmin,xmax) for xmin, xmax in zip(ff_min.x, ff_max.x)]"
   ]
  },
  {
   "cell_type": "markdown",
   "metadata": {},
   "source": [
    "The `is_active` attribute marks individual parameters for optimization:"
   ]
  },
  {
   "cell_type": "code",
   "execution_count": 10,
   "metadata": {},
   "outputs": [
    {
     "name": "stdout",
     "output_type": "stream",
     "text": [
      "Total number of paramters in force field: 701\n",
      "Number of paramters to be optimized before setting: 619\n",
      "Number of paramters to be optimized after setting:  87\n"
     ]
    }
   ],
   "source": [
    "print(f\"Total number of paramters in force field: {len(x0)}\")\n",
    "print(f\"Number of paramters to be optimized before setting: {len(x0.active)}\")\n",
    "x0.is_active = [bool(i) for i in ff_bool.x]\n",
    "print(f\"Number of paramters to be optimized after setting:  {len(x0.active)}\")"
   ]
  },
  {
   "cell_type": "markdown",
   "metadata": {},
   "source": [
    "# Step 4: Start the optimization"
   ]
  },
  {
   "cell_type": "code",
   "execution_count": 13,
   "metadata": {},
   "outputs": [
    {
     "name": "stdout",
     "output_type": "stream",
     "text": [
      "Optimization() Instance Settings:\n",
      "=================================\n",
      "Workdir:                           opt\n",
      "JobCollection size:                458\n",
      "Interface:                         ReaxParams\n",
      "Active parameters:                 87\n",
      "Optimizer:                         CMAOptimizer\n",
      "Parallelism:                       ParallelLevels(optimizations=1, parametervectors=6, jobs=1, processes=1, threads=1)\n",
      "Verbose:                           True\n",
      "Callbacks:                         Logger\n",
      "                                   Timeout\n",
      "                                   TimePerEval\n",
      "                                   EarlyStopping\n",
      "\n",
      "Evaluators:\n",
      "-----------\n",
      "Name:                              trainingset (_LossEvaluator)\n",
      "Loss:                              SSE\n",
      "Evaluation frequency:              1\n",
      "\n",
      "Data Set entries:                  4875\n",
      "Data Set jobs:                     231\n",
      "Batch size:                        None\n",
      "\n",
      "Use PIPE:                          True\n",
      "---\n",
      "Name:                              validationset (_LossEvaluator)\n",
      "Loss:                              SSE\n",
      "Evaluation frequency:              1\n",
      "\n",
      "Data Set entries:                  970\n",
      "Data Set jobs:                     224\n",
      "Batch size:                        None\n",
      "\n",
      "Use PIPE:                          True\n",
      "---\n",
      "===\n"
     ]
    }
   ],
   "source": [
    "o            = CMAOptimizer(popsize=15, sigma=0.5)\n",
    "callbacks    = [Logger(), Timeout(60*60*8), TimePerEval(10), EarlyStopping(6000)]\n",
    "optimization = Optimization(jc, [train_set, val_set], x0, o, callbacks=callbacks)\n",
    "optimization.summary()"
   ]
  },
  {
   "cell_type": "markdown",
   "metadata": {},
   "source": [
    "The following will start the optimization (we will not show the output in the notebook):"
   ]
  },
  {
   "cell_type": "code",
   "execution_count": 17,
   "metadata": {
    "scrolled": false
   },
   "outputs": [],
   "source": [
    "# optimization.optimize()"
   ]
  }
 ],
 "metadata": {
  "kernelspec": {
   "display_name": "Python 3",
   "language": "python",
   "name": "python3"
  },
  "language_info": {
   "codemirror_mode": {
    "name": "ipython",
    "version": 3
   },
   "file_extension": ".py",
   "mimetype": "text/x-python",
   "name": "python",
   "nbconvert_exporter": "python",
   "pygments_lexer": "ipython3",
   "version": "3.7.3"
  }
 },
 "nbformat": 4,
 "nbformat_minor": 2
}
