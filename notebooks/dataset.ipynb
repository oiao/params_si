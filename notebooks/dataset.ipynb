{
 "cells": [
  {
   "cell_type": "markdown",
   "metadata": {},
   "source": [
    "# Showcase: List-like behavior of ParAMS data structures\n",
    "\n",
    "This is part of the supporting information for the paper  \n",
    "*ParAMS: Parameter Fitting for Atomistic and Molecular Models* (DOI: *123123*)  \n",
    "The full documentation can be found at https://www.scm.com/doc.trunk/params/index.html"
   ]
  },
  {
   "cell_type": "code",
   "execution_count": 3,
   "metadata": {},
   "outputs": [],
   "source": [
    "import numpy as np\n",
    "from scm.params import DataSet\n",
    "ds = DataSet()"
   ]
  },
  {
   "cell_type": "markdown",
   "metadata": {},
   "source": [
    "#### The `DataSet` defines which systems $R_i$ and properties $\\mathbb{P}_j$ need to be evaluated during an optimization.  \n",
    "Here we would like to add two entires: The relative energy of two systems `mymol01`, `mymol02` and the frequencies of `mymol01`:"
   ]
  },
  {
   "cell_type": "code",
   "execution_count": 4,
   "metadata": {},
   "outputs": [],
   "source": [
    "pr1 = \"vibfreq('mymol01')\"\n",
    "pr2 = \"energy('mymol01') - energy('mymol02')\"\n",
    "\n",
    "ds.add_entry(pr1, weight=1.0)\n",
    "ds.add_entry(pr2, weight=0.1, unit='au', reference=1.234)"
   ]
  },
  {
   "cell_type": "markdown",
   "metadata": {},
   "source": [
    "#### We can treat the `ds` object as a list, with a few functional additions:"
   ]
  },
  {
   "cell_type": "code",
   "execution_count": 10,
   "metadata": {},
   "outputs": [
    {
     "data": {
      "text/plain": [
       "2"
      ]
     },
     "execution_count": 10,
     "metadata": {},
     "output_type": "execute_result"
    }
   ],
   "source": [
    "len(ds)"
   ]
  },
  {
   "cell_type": "code",
   "execution_count": 12,
   "metadata": {},
   "outputs": [
    {
     "data": {
      "text/plain": [
       "[None, 1.234]"
      ]
     },
     "execution_count": 12,
     "metadata": {},
     "output_type": "execute_result"
    }
   ],
   "source": [
    "[i.reference for i in ds]"
   ]
  },
  {
   "cell_type": "code",
   "execution_count": 14,
   "metadata": {},
   "outputs": [
    {
     "data": {
      "text/plain": [
       "---\n",
       "Expression: vibfreq('mymol01')\n",
       "Weight: 1.0\n",
       "Unit: None"
      ]
     },
     "execution_count": 14,
     "metadata": {},
     "output_type": "execute_result"
    }
   ],
   "source": [
    "ds(pr1)"
   ]
  },
  {
   "cell_type": "code",
   "execution_count": 18,
   "metadata": {},
   "outputs": [
    {
     "data": {
      "text/plain": [
       "True"
      ]
     },
     "execution_count": 18,
     "metadata": {},
     "output_type": "execute_result"
    }
   ],
   "source": [
    "ds(pr1).weight == ds[0].weight"
   ]
  },
  {
   "cell_type": "code",
   "execution_count": 23,
   "metadata": {},
   "outputs": [
    {
     "data": {
      "text/plain": [
       "{'mymol01', 'mymol02'}"
      ]
     },
     "execution_count": 23,
     "metadata": {},
     "output_type": "execute_result"
    }
   ],
   "source": [
    "ds[1].jobids"
   ]
  },
  {
   "cell_type": "markdown",
   "metadata": {},
   "source": [
    "#### Calling `.store()` will write a YAML representation of the object to disk:"
   ]
  },
  {
   "cell_type": "code",
   "execution_count": 24,
   "metadata": {},
   "outputs": [
    {
     "name": "stdout",
     "output_type": "stream",
     "text": [
      "---\n",
      "Expression: vibfreq('mymol01')\n",
      "Weight: 1.0\n",
      "Unit: None\n",
      "---\n",
      "Expression: energy('mymol01') - energy('mymol02')\n",
      "Weight: 0.1\n",
      "Unit: au\n",
      "ReferenceValue: |\n",
      "   1.234\n",
      "...\n",
      "\n"
     ]
    }
   ],
   "source": [
    "# ds.store('mydataset.yaml') # This is equivalent to printing to file:\n",
    "print(ds)"
   ]
  }
 ],
 "metadata": {
  "kernelspec": {
   "display_name": "Python 3",
   "language": "python",
   "name": "python3"
  },
  "language_info": {
   "codemirror_mode": {
    "name": "ipython",
    "version": 3
   },
   "file_extension": ".py",
   "mimetype": "text/x-python",
   "name": "python",
   "nbconvert_exporter": "python",
   "pygments_lexer": "ipython3",
   "version": "3.7.3"
  }
 },
 "nbformat": 4,
 "nbformat_minor": 2
}
