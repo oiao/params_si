{
 "cells": [
  {
   "cell_type": "markdown",
   "metadata": {},
   "source": [
    "This is part of the supporting information for the paper  \n",
    "*ParAMS: Parameter Fitting for Atomistic and Molecular Models* (DOI: *123123*)  \n",
    "The full documentation can be found at https://www.scm.com/doc.trunk/params/index.html\n",
    "\n",
    "# 1. Working with ParAMS data structures\n",
    "\n",
    "## 1.1 The Data Set"
   ]
  },
  {
   "cell_type": "code",
   "execution_count": 4,
   "metadata": {},
   "outputs": [],
   "source": [
    "import numpy as np\n",
    "from scm.params import DataSet\n",
    "ds = DataSet()"
   ]
  },
  {
   "cell_type": "markdown",
   "metadata": {},
   "source": [
    "The `DataSet` defines which properties of what systems $\\{P_j\\}$ are relevant for the optimization.  \n",
    "Here, we add two entires: The relative energy of two systems `mymol01`, `mymol02` and the frequencies of `mymol01`:"
   ]
  },
  {
   "cell_type": "code",
   "execution_count": 5,
   "metadata": {},
   "outputs": [],
   "source": [
    "pr1 = \"vibfreq('mymol01')\"\n",
    "pr2 = \"energy('mymol01') - energy('mymol02')\"\n",
    "\n",
    "ds.add_entry(pr1, weight=1.0)\n",
    "ds.add_entry(pr2, weight=0.1, reference=1.234)"
   ]
  },
  {
   "cell_type": "markdown",
   "metadata": {},
   "source": [
    " We can treat the `ds` object as a list, with a few functional additions:"
   ]
  },
  {
   "cell_type": "code",
   "execution_count": 6,
   "metadata": {
    "scrolled": true
   },
   "outputs": [
    {
     "data": {
      "text/plain": [
       "2"
      ]
     },
     "execution_count": 6,
     "metadata": {},
     "output_type": "execute_result"
    }
   ],
   "source": [
    "len(ds)"
   ]
  },
  {
   "cell_type": "code",
   "execution_count": 7,
   "metadata": {},
   "outputs": [
    {
     "data": {
      "text/plain": [
       "[None, 1.234]"
      ]
     },
     "execution_count": 7,
     "metadata": {},
     "output_type": "execute_result"
    }
   ],
   "source": [
    "[i.reference for i in ds]"
   ]
  },
  {
   "cell_type": "code",
   "execution_count": 8,
   "metadata": {},
   "outputs": [
    {
     "data": {
      "text/plain": [
       "---\n",
       "Expression: vibfreq('mymol01')\n",
       "Weight: 1.0"
      ]
     },
     "execution_count": 8,
     "metadata": {},
     "output_type": "execute_result"
    }
   ],
   "source": [
    "ds(pr1)"
   ]
  },
  {
   "cell_type": "code",
   "execution_count": 10,
   "metadata": {},
   "outputs": [
    {
     "data": {
      "text/plain": [
       "True"
      ]
     },
     "execution_count": 10,
     "metadata": {},
     "output_type": "execute_result"
    }
   ],
   "source": [
    "ds[pr1].weight == ds[0].weight"
   ]
  },
  {
   "cell_type": "code",
   "execution_count": 11,
   "metadata": {},
   "outputs": [
    {
     "data": {
      "text/plain": [
       "{'mymol01', 'mymol02'}"
      ]
     },
     "execution_count": 11,
     "metadata": {},
     "output_type": "execute_result"
    }
   ],
   "source": [
    "ds[1].jobids"
   ]
  },
  {
   "cell_type": "markdown",
   "metadata": {},
   "source": [
    "Calling `.store()` will write a YAML representation of the object to disk:"
   ]
  },
  {
   "cell_type": "code",
   "execution_count": 12,
   "metadata": {},
   "outputs": [
    {
     "name": "stdout",
     "output_type": "stream",
     "text": [
      "---\n",
      "Expression: vibfreq('mymol01')\n",
      "Weight: 1.0\n",
      "---\n",
      "Expression: energy('mymol01') - energy('mymol02')\n",
      "Weight: 0.1\n",
      "ReferenceValue: 1.234\n",
      "...\n",
      "\n"
     ]
    }
   ],
   "source": [
    "# ds.store('mydataset.yaml') # This is equivalent to printing to file:\n",
    "print(ds)"
   ]
  },
  {
   "cell_type": "markdown",
   "metadata": {},
   "source": [
    "## 1.2 Job Collection\n",
    "When a new parameter set $\\boldsymbol{x}$ is generated, jobs that are part of a `DataSet` instance need to be\n",
    "re-calculated with the new parameters, before the loss $L$ can be calculated.\n",
    "The `JobCollection` sores the relevant input geometries $\\{R\\}$ and the settings alongside the individual settings for an execution of a Job with AMS:"
   ]
  },
  {
   "cell_type": "code",
   "execution_count": 14,
   "metadata": {},
   "outputs": [],
   "source": [
    "from scm.params import JobCollection"
   ]
  },
  {
   "cell_type": "markdown",
   "metadata": {},
   "source": [
    "Check which jobIDs are required by the `ds` object:"
   ]
  },
  {
   "cell_type": "code",
   "execution_count": 15,
   "metadata": {},
   "outputs": [
    {
     "data": {
      "text/plain": [
       "{'mymol01', 'mymol02'}"
      ]
     },
     "execution_count": 15,
     "metadata": {},
     "output_type": "execute_result"
    }
   ],
   "source": [
    "ds.jobids"
   ]
  },
  {
   "cell_type": "markdown",
   "metadata": {},
   "source": [
    "We already have a Job Collection stored in *myjobs.yml*, which can be easily loaded:"
   ]
  },
  {
   "cell_type": "code",
   "execution_count": 16,
   "metadata": {},
   "outputs": [],
   "source": [
    "jc = JobCollection('../data/myjobs.yml')"
   ]
  },
  {
   "cell_type": "markdown",
   "metadata": {},
   "source": [
    "The Job Collection behaves like a *dict*:"
   ]
  },
  {
   "cell_type": "code",
   "execution_count": 17,
   "metadata": {},
   "outputs": [
    {
     "name": "stdout",
     "output_type": "stream",
     "text": [
      "mymol01:\n",
      "  Atoms: \n",
      "    1        He      0.000000      0.000000      0.000000 \n",
      "    2        He      2.500000      0.000000      0.000000 \n",
      "\n",
      "mymol02:\n",
      "  Atoms: \n",
      "    1        He      0.000000      0.000000      0.000000 \n",
      "    2        He      2.500000      0.000000      0.000000 \n",
      "    3        He      1.250000      1.750000      0.000000 \n",
      "\n"
     ]
    }
   ],
   "source": [
    "for k,v in jc.items():\n",
    "    print(f'{k}:')\n",
    "    print(v.molecule)"
   ]
  },
  {
   "cell_type": "markdown",
   "metadata": {},
   "source": [
    "In addition to the chemical system, each entry in the collection also stores a [PLAMS Settings](https://www.scm.com/product/plams/) instance. The combination of system and settings clearly defines how a job should be executed."
   ]
  },
  {
   "cell_type": "code",
   "execution_count": 18,
   "metadata": {},
   "outputs": [
    {
     "name": "stdout",
     "output_type": "stream",
     "text": [
      "mymol01:\n",
      "input: \t\n",
      "      ams: \t\n",
      "          task: \tSinglePoint\n",
      "\n",
      "mymol02:\n",
      "input: \t\n",
      "      ams: \t\n",
      "          task: \tGeometryOptimization\n",
      "\n"
     ]
    }
   ],
   "source": [
    "for k,v in jc.items():\n",
    "    print(f'{k}:')\n",
    "    print(v.settings)"
   ]
  },
  {
   "cell_type": "markdown",
   "metadata": {},
   "source": [
    "## 1.3 Parameter Interfaces\n",
    "Parameter interfaces are responsible for the communication between an Optimizer, and the software that calculates the jobs stored in a Job Collection.  \n",
    "Every parameter interface can be reparameterized."
   ]
  },
  {
   "cell_type": "code",
   "execution_count": 19,
   "metadata": {},
   "outputs": [],
   "source": [
    "from scm.params import LennardJonesParams\n",
    "p = LennardJonesParams()"
   ]
  },
  {
   "cell_type": "markdown",
   "metadata": {},
   "source": [
    "Every Parameter Interface is *list*-like:"
   ]
  },
  {
   "cell_type": "code",
   "execution_count": 20,
   "metadata": {},
   "outputs": [
    {
     "data": {
      "text/plain": [
       "2"
      ]
     },
     "execution_count": 20,
     "metadata": {},
     "output_type": "execute_result"
    }
   ],
   "source": [
    "len(p)"
   ]
  },
  {
   "cell_type": "code",
   "execution_count": 21,
   "metadata": {},
   "outputs": [
    {
     "name": "stdout",
     "output_type": "stream",
     "text": [
      "eps: 0.0003, (0.0001, 0.001)\n",
      "rmin: 3.0, (0.5, 10.0)\n"
     ]
    }
   ],
   "source": [
    "for pi in p:\n",
    "    print(f\"{pi.name}: {pi.value}, {pi.range}\")"
   ]
  },
  {
   "cell_type": "markdown",
   "metadata": {},
   "source": [
    "The `.active` subset defines which parameters to optimize:"
   ]
  },
  {
   "cell_type": "code",
   "execution_count": 22,
   "metadata": {},
   "outputs": [
    {
     "data": {
      "text/plain": [
       "1"
      ]
     },
     "execution_count": 22,
     "metadata": {},
     "output_type": "execute_result"
    }
   ],
   "source": [
    "assert p == p.active\n",
    "p['eps'].is_active = False\n",
    "len(p.active)"
   ]
  },
  {
   "cell_type": "code",
   "execution_count": 23,
   "metadata": {},
   "outputs": [
    {
     "name": "stdout",
     "output_type": "stream",
     "text": [
      "rmin: 3.0, (0.5, 10.0)\n"
     ]
    }
   ],
   "source": [
    "for pi in p.active:\n",
    "    print(f\"{pi.name}: {pi.value}, {pi.range}\")"
   ]
  }
 ],
 "metadata": {
  "kernelspec": {
   "display_name": "Python 3",
   "language": "python",
   "name": "python3"
  },
  "language_info": {
   "codemirror_mode": {
    "name": "ipython",
    "version": 3
   },
   "file_extension": ".py",
   "mimetype": "text/x-python",
   "name": "python",
   "nbconvert_exporter": "python",
   "pygments_lexer": "ipython3",
   "version": "3.7.3"
  }
 },
 "nbformat": 4,
 "nbformat_minor": 2
}
