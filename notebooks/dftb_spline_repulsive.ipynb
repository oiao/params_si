{
 "cells": [
  {
   "cell_type": "markdown",
   "metadata": {},
   "source": [
    "# This is part of the supporting information for the paper  \n",
    "*ParAMS: Parameter Fitting for Atomistic and Molecular Models* (DOI: *123123*)  \n",
    "The full documentation can be found at https://www.scm.com/doc.trunk/params/index.html\n",
    "\n",
    "# SCC-DFTB repulsive potential parametrization\n",
    "\n",
    "Set num_processes to the number of processors on your machine. The DFTB calculations will be parallelized over that many cores."
   ]
  },
  {
   "cell_type": "code",
   "execution_count": 9,
   "metadata": {},
   "outputs": [
    {
     "name": "stdout",
     "output_type": "stream",
     "text": [
      "/home/leo/Documents/papers/params/SI/notebooks\n",
      "ParAMS Version used: 0.5.0\n",
      "Training set file: ../data/dftb/precalculated_trainingset.yml\n",
      "Job collection file: ../data/dftb/precalculated_jobcollection.yml\n"
     ]
    }
   ],
   "source": [
    "import os, sys\n",
    "import numpy as np\n",
    "from os.path    import join as opj\n",
    "from scm.params import *\n",
    "from scm.params import __version__ as paramsver\n",
    "from scm.plams import *\n",
    "\n",
    "num_processes = 8\n",
    "include_bulkmodulus = True\n",
    "recalculate_reference_data = False\n",
    "load_precalculated = True\n",
    "\n",
    "INDIR = '../data/dftb'\n",
    "if not os.path.exists(INDIR):\n",
    "    os.makedirs(INDIR)\n",
    "print(os.getcwd())\n",
    "\n",
    "if load_precalculated:\n",
    "    jcfile = opj(INDIR, 'precalculated_jobcollection.yml')\n",
    "    trainingsetfile = opj(INDIR, 'precalculated_trainingset.yml') # calculated with BAND\n",
    "    assert(os.path.exists(jcfile))\n",
    "    assert(os.path.exists(trainingsetfile))\n",
    "else:\n",
    "    suffix = ''\n",
    "    if include_bulkmodulus:\n",
    "        suffix += '_bm'\n",
    "    if recalculate_reference_data:\n",
    "        suffix += '_recalc'\n",
    "    jcfile = opj(INDIR, 'jobcollection{}.yml'.format(suffix))\n",
    "    trainingsetfile = opj(INDIR, 'trainingset{}.yml'.format(suffix))\n",
    "\n",
    "    i = 1\n",
    "    while os.path.exists(jcfile) or os.path.exists(trainingsetfile):\n",
    "        i += 1\n",
    "        jcfile = opj(INDIR, 'jobcollection{}.yml.{:03d}'.format(suffix, i))\n",
    "        trainingsetfile = opj(INDIR, 'trainingset{}.yml.{:03d}'.format(suffix, i))\n",
    "\n",
    "print(f\"ParAMS Version used: {paramsver}\")\n",
    "print(\"Training set file: {}\".format(trainingsetfile))\n",
    "print(\"Job collection file: {}\".format(jcfile))"
   ]
  },
  {
   "cell_type": "markdown",
   "metadata": {},
   "source": [
    "\n",
    "# Step 1: Define the job collection\n",
    "This adds lattice optimizations of the wurtzite and rocksalt polymorphs of ZnO to the job collection.\n",
    "\n",
    "For wurtzite, the elastic tensor is calculated. From the output, the bulk modulus can then be extracted.\n",
    "\n",
    "The job collection is stored in jobcollection.yml."
   ]
  },
  {
   "cell_type": "code",
   "execution_count": null,
   "metadata": {},
   "outputs": [],
   "source": [
    "jc = JobCollection()\n",
    "if load_precalculated:\n",
    "    jc.load(jcfile)\n",
    "else:\n",
    "    wurtzite, rocksalt = Molecule(opj(INDIR, 'w.xyz')), Molecule(opj(INDIR, 'rs.xyz')) \n",
    "\n",
    "    # for more information about the input settings, see the AMS manual\n",
    "    w_opt_s = Settings()\n",
    "    w_opt_s.input.ams.Task = 'GeometryOptimization'\n",
    "    w_opt_s.input.ams.GeometryOptimization.OptimizeLattice = 'Yes'\n",
    "    #w_opt_s.input.ams.GeometryOptimization.MaxIterations = 100\n",
    "    #w_opt_s.input.ams.GeometryOptimization.PretendConverged = 'Yes'\n",
    "    w_opt_s.input.ams.Constraints.FreezeStrain = 'xz yz xz'\n",
    "    w_opt_s.input.ams.Constraints.EqualStrain = 'xx yy'\n",
    "    if include_bulkmodulus:\n",
    "        w_opt_s.input.ams.Properties.ElasticTensor = 'Yes' # to get bulk modulus of wurtzite\n",
    "        w_opt_s.input.ams.GeometryOptimization.Convergence.Gradients = 8e-5\n",
    "\n",
    "    rs_opt_s = w_opt_s.copy()\n",
    "    rs_opt_s.input.ams.Constraints.EqualStrain = 'xx yy zz'\n",
    "\n",
    "    jc.add_entry('wurtzite_lattopt', JCEntry(w_opt_s, wurtzite))\n",
    "    jc.add_entry('rocksalt_lattopt', JCEntry(rs_opt_s, rocksalt))\n",
    "\n",
    "    jc.store(jcfile)\n",
    "\n",
    "print(\"### Job collection ###\")\n",
    "print(jc)"
   ]
  },
  {
   "cell_type": "markdown",
   "metadata": {},
   "source": [
    "# Step 2: Define the training set\n",
    "There are four target quantities\n",
    "* $a$ wurtzite lattice parameter, \n",
    "* $c$ wurtzite lattice parameter, \n",
    "* $B_0$ wurtzite bulk modulus, and\n",
    "* and $\\Delta E$ = relative energy between the wurtzite and rocksalt polymorphs (per ZnO formula unit).\n",
    "\n",
    "**If you set recalculate_reference_data to True**, the AMS BAND periodic DFT software will be used to run the reference jobs and calculate the reference data. Any engine, or combination of different engines in the Amsterdam Modeling Suite, can be used to seamlessly calculate the reference data, if the reference values are not known beforehand. NOTE: It may take many hours to calculate the reference data.\n",
    "\n",
    "**Otherwise**, DFT-calculated reference values are taken from https://doi.org/10.1021/jp404095x"
   ]
  },
  {
   "cell_type": "code",
   "execution_count": null,
   "metadata": {},
   "outputs": [],
   "source": [
    "\n",
    "training_set = DataSet()\n",
    "if load_precalculated:\n",
    "    training_set.load(trainingsetfile)\n",
    "else:\n",
    "    if recalculate_reference_data:\n",
    "        if include_bulkmodulus:\n",
    "            training_set.add_entry('bulkmodulus(\"wurtzite_lattopt\")', weight=0.5, reference=None) \n",
    "        training_set.add_entry('lattice(\"wurtzite_lattopt\", 0)', weight=1, reference=None) \n",
    "        training_set.add_entry('lattice(\"wurtzite_lattopt\", 2)', weight=1, reference=None)\n",
    "        training_set.add_entry('energy(\"wurtzite_lattopt\")/2.0-energy(\"rocksalt_lattopt\")', weight=1, reference=None)\n",
    "        band_settings = Settings()\n",
    "        band_settings.input.band.basis.type = 'TZP'\n",
    "        band_settings.input.band.numericalquality = 'Good'\n",
    "        band_settings.input.band.xc.libxc = 'PBE'\n",
    "        band_settings.runscript.nproc = num_processes\n",
    "        init(path=INDIR, folder='band_reference_data')\n",
    "        reference_results = jc.run(engine_settings=band_settings, use_pipe=False)\n",
    "        finish()\n",
    "        training_set.calculate_reference(reference_results)\n",
    "    else:\n",
    "        if include_bulkmodulus:\n",
    "            training_set.add_entry('bulkmodulus(\"wurtzite_lattopt\")', weight=0.5, reference=129) # GPa\n",
    "        training_set.add_entry('lattice(\"wurtzite_lattopt\", 0)', weight=1, reference=3.29) # a, angstrom\n",
    "        training_set.add_entry('lattice(\"wurtzite_lattopt\", 2)', weight=1, reference=5.31) # c, angstrom\n",
    "        training_set.add_entry('energy(\"wurtzite_lattopt\")/2.0-energy(\"rocksalt_lattopt\")', weight=1, reference=-0.30/27.211)\n",
    "    training_set.store(trainingsetfile)\n",
    "\n",
    "print(\"### Training set ###\")\n",
    "print(training_set)\n"
   ]
  },
  {
   "cell_type": "markdown",
   "metadata": {},
   "source": [
    "Set the settings for the parametrized DFTB engine. Here, we set the k-space quality to 'Good', which is important for lattice optimizations."
   ]
  },
  {
   "cell_type": "code",
   "execution_count": null,
   "metadata": {},
   "outputs": [],
   "source": [
    "dftb_s = Settings()\n",
    "dftb_s.input.dftb.kspace.quality = 'Good'"
   ]
  },
  {
   "cell_type": "markdown",
   "metadata": {},
   "source": [
    "Create a \"parameter interface\" to the DFTB repulsive potential. \n",
    "\n",
    "Repulsive potentials are stored as splines towards the end of Slater-Koster (.skf) files.\n",
    "\n",
    "Here, we optimize only the Zn-O and O-Zn repulsive potentials (which must be identical).\n",
    "\n",
    "* Take electronic parameters and unchanged repulsive potentials (e.g. O-O.skf) from AMSHOME/atomicdata/DFTB/DFTB.org/znorg-0-1\n",
    "\n",
    "* Define an analytical repulsive function. Here, we choose a tapered double exponential of the form $V^{\\text{rep}}(r) = f^{\\text{cut}}(r)\\left[p_0\\exp(-p_1r) + p_2\\exp(-p_3r)\\right]$, where $p_0, p_1, p_2, p_3$ are the parameters to be fitted, and $f^\\text{cut}(r)$ is a smoothly decaying cutoff function decaying to 0 at $r = 5.67$ bohr.\n",
    "\n",
    "* r_range specifies for which distances to write the repulsive potential, and spline parameters, to the new O-Zn.skf and Zn-O.skf files.\n",
    "\n",
    "* Only optimize parameters for the O-Zn pair. Note: The Zn-O repulsive potential will be identical to the O-Zn one. When specifying active parameters for a DFTBSplineRepulsivePotentialParams, the elements must be ordered alphabetically.\n",
    "\n",
    "* Define initial values and allowed ranges for the parameter values."
   ]
  },
  {
   "cell_type": "code",
   "execution_count": null,
   "metadata": {},
   "outputs": [],
   "source": [
    "interface = DFTBSplineRepulsivePotentialParams(\n",
    "    folder=opj(os.environ['AMSHOME'],'atomicdata', 'DFTB', 'DFTB.org', 'znorg-0-1'), \n",
    "    repulsive_function=TaperedDoubleExponential(cutoff=5.67), \n",
    "    r_range=np.arange(0., 5.87, 0.1), \n",
    "    other_settings=dftb_s\n",
    ")\n",
    "for p in interface:    \n",
    "    p.is_active = p.name.startswith('O-Zn:')\n",
    "\n",
    "print(\"### Active parameters ###\")\n",
    "interface.active.x = [0.5, 1.0, 0.3, 0.3] # initial values\n",
    "interface.active.range = [ (0.,4.), (0.,10.), (0.,4.), (0.,10) ]\n",
    "for p in interface.active:\n",
    "    print(p)\n"
   ]
  },
  {
   "cell_type": "markdown",
   "metadata": {},
   "source": [
    "# Step 3: Run the optimization\n",
    "* Specify a Nelder-Mead optimizer from scipy."
   ]
  },
  {
   "cell_type": "code",
   "execution_count": null,
   "metadata": {},
   "outputs": [],
   "source": [
    "\n",
    "optimizer = Scipy(method='Nelder-Mead')\n",
    "\n",
    "optimization = Optimization(jc, \n",
    "                            training_set, \n",
    "                            interface, \n",
    "                            optimizer, \n",
    "                            title=\"ZnO_repulsive_opt\",\n",
    "                            use_pipe=True, \n",
    "                            parallel=ParallelLevels(processes=num_processes), \n",
    "                            callbacks=[Logger(printfreq=1,\n",
    "                                              writefreq_history=1,\n",
    "                                              writefreq_datafiles=1,\n",
    "                                              writefreq_bestparams=1\n",
    "                                             ),\n",
    "                                      TimePerEval(printfrequency=10)])\n",
    "\n",
    "\n",
    "optimization.summary()\n",
    "results = optimization.optimize()"
   ]
  },
  {
   "cell_type": "markdown",
   "metadata": {},
   "source": [
    "# Step 4: Find the results\n",
    "* ZnO_repulsive_opt/trainingset_history.dat contains the loss function value and parameters for each iteration\n",
    "* ZnO_repulsive_opt/data/predictions/trainingset contains the individual predictions ($a$, $c$, $B_0$ and $\\Delta E$) for each parameter set\n",
    "* ZnO_repulsive_opt/data/contributions/trainingset contains the fraction of the total loss function value for each item in the training set, for each parameter set"
   ]
  },
  {
   "cell_type": "markdown",
   "metadata": {},
   "source": [
    "# Appendix: Recalculate training set with arbitrary engines (e.g. UFF)"
   ]
  },
  {
   "cell_type": "code",
   "execution_count": null,
   "metadata": {},
   "outputs": [],
   "source": [
    "\n",
    "uff_s = Settings()\n",
    "uff_s.input.forcefield\n",
    "\n",
    "znorg_s = Settings()\n",
    "znorg_s.input.dftb.model = 'SCC-DFTB'\n",
    "znorg_s.input.dftb.resourcesdir = 'DFTB.org/znorg-0-1'\n",
    "znorg_s.input.dftb.kspace.quality = 'Good'\n",
    "znorg_s.runscript.nproc = num_processes\n",
    "\n",
    "engines_dict = {'UFF': uff_s, 'znorg-0-1': znorg_s}\n",
    "print(\"Engine\", end='')\n",
    "for x in training_set:    print(\" {}\".format(x.expression), end='')\n",
    "print(\"\\nRef.\", end='')\n",
    "for x in training_set:    print(\" {}\".format(x.reference), end='')\n",
    "print(\"\\n\")\n",
    "for engine, sett in engines_dict.items():\n",
    "    init(opj(INDIR, 'other_engines'), folder=engine)\n",
    "    results = jc.run(sett, use_pipe=False)\n",
    "    finish()\n",
    "    fx, residuals, contributions = training_set.evaluate(results, return_residuals=True)\n",
    "    predictions = training_set.get_predictions(residuals)\n",
    "    print(engine, end='')\n",
    "    for e,v in predictions:\n",
    "        print(\" {:.3f} \".format(v[0]), end='')\n",
    "    print(\"\\n\")"
   ]
  },
  {
   "cell_type": "code",
   "execution_count": null,
   "metadata": {},
   "outputs": [],
   "source": []
  }
 ],
 "metadata": {
  "kernelspec": {
   "display_name": "Python 3",
   "language": "python",
   "name": "python3"
  },
  "language_info": {
   "codemirror_mode": {
    "name": "ipython",
    "version": 3
   },
   "file_extension": ".py",
   "mimetype": "text/x-python",
   "name": "python",
   "nbconvert_exporter": "python",
   "pygments_lexer": "ipython3",
   "version": "3.7.3"
  }
 },
 "nbformat": 4,
 "nbformat_minor": 2
}
