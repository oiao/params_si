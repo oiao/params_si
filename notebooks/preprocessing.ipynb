{
 "cells": [
  {
   "cell_type": "markdown",
   "metadata": {},
   "source": [
    "This is part of the supporting information for the paper  \n",
    "*ParAMS: Parameter Fitting for Atomistic and Molecular Models* (DOI: *123123*)  \n",
    "The full documentation can be found at https://www.scm.com/doc.trunk/params/index.html\n",
    "\n",
    "# Preprocessing Examples\n",
    "This notebook demonstrates how ParAMS can be used to generate and process training data and help with the selection of suitable models and optimizers."
   ]
  },
  {
   "cell_type": "code",
   "execution_count": 1,
   "metadata": {},
   "outputs": [
    {
     "name": "stdout",
     "output_type": "stream",
     "text": [
      "ParAMS version: 0.4.1\n"
     ]
    }
   ],
   "source": [
    "from scm.params import *\n",
    "from scm.params import __version__\n",
    "print(f\"ParAMS version: {__version__}\")"
   ]
  },
  {
   "cell_type": "markdown",
   "metadata": {},
   "source": [
    "Load the job collection and training set:"
   ]
  },
  {
   "cell_type": "code",
   "execution_count": 2,
   "metadata": {},
   "outputs": [],
   "source": [
    "jc = JobCollection('../data/jobcollection.yml')\n",
    "ts = DataSet('../data/trainingset.yml')"
   ]
  },
  {
   "cell_type": "markdown",
   "metadata": {},
   "source": [
    "## Modifying the Data Set\n",
    "Let's look at how different subsets of the training set can be created"
   ]
  },
  {
   "cell_type": "code",
   "execution_count": 3,
   "metadata": {},
   "outputs": [
    {
     "name": "stdout",
     "output_type": "stream",
     "text": [
      "Total training set size: 4875\n",
      "Total jobs associated with the set size: 231\n",
      "Available extractors:\n",
      "\n",
      "angles\n",
      "charges\n",
      "dihedral\n",
      "distance\n",
      "energy\n",
      "forces\n",
      "hessian\n",
      "pes\n",
      "pesscan_angle\n",
      "pesscan_dihedral\n",
      "pesscan_distance\n",
      "stresstensor\n",
      "vibfreq\n"
     ]
    }
   ],
   "source": [
    "print(f\"Total training set size: {len(ts)}\")\n",
    "print(f\"Total jobs associated with the set size: {len(ts.jobids)}\")\n",
    "print(\"Available extractors:\\n\")\n",
    "print('\\n'.join(sorted(ts.extractors)))"
   ]
  },
  {
   "cell_type": "markdown",
   "metadata": {},
   "source": [
    "### Generating random subsets:"
   ]
  },
  {
   "cell_type": "code",
   "execution_count": 4,
   "metadata": {},
   "outputs": [
    {
     "name": "stdout",
     "output_type": "stream",
     "text": [
      "Subset sizes: 975, 975, 2925\n"
     ]
    }
   ],
   "source": [
    "ts1, ts2, ts3 = ts.split(0.2, 0.2, 0.6)\n",
    "print(f\"Subset sizes: {len(ts1)}, {len(ts2)}, {len(ts3)}\")"
   ]
  },
  {
   "cell_type": "markdown",
   "metadata": {},
   "source": [
    "### Filtering by property:"
   ]
  },
  {
   "cell_type": "code",
   "execution_count": 5,
   "metadata": {},
   "outputs": [
    {
     "name": "stdout",
     "output_type": "stream",
     "text": [
      "Training set contains 219 energy  entries\n",
      "Training set contains 94 distance entries\n"
     ]
    }
   ],
   "source": [
    "ts_energy   = ts.energy()\n",
    "ts_distance = ts.distance()\n",
    "print(f\"Training set contains {len(ts_energy)} energy  entries\")\n",
    "print(f\"Training set contains {len(ts_distance)} distance entries\")"
   ]
  },
  {
   "cell_type": "markdown",
   "metadata": {},
   "source": [
    "## Calculating Reference Values\n",
    "Although the loaded training set already contains training data provided by [Mueller and Hartke](https://doi.org/10.1021/acs.jctc.6b00461), this might not be the case when starting a parameterization from scratch.\n",
    "In this case, the user can easily calculate a reference with any AMS engine. For the sake of speed, we will use [MOPAC](http://openmopac.net/) to calculate our reference results.\n",
    "In a real application, higher level calculations are more likely to act as a good source of reference."
   ]
  },
  {
   "cell_type": "markdown",
   "metadata": {},
   "source": [
    "Remove all reference values first:"
   ]
  },
  {
   "cell_type": "code",
   "execution_count": 6,
   "metadata": {},
   "outputs": [
    {
     "name": "stdout",
     "output_type": "stream",
     "text": [
      "[---\n",
      "Expression: +energy(\"hsh-SH1.15\")/1-energy(\"hshBase\")/1\n",
      "Weight: 1\n",
      "Unit: kcal/mol, 627.5096\n",
      "Sigma: 1.0\n",
      "Source: MOPAC\n",
      ", ---\n",
      "Expression: +energy(\"hsh-SH7.5\")/1-energy(\"hshBase\")/1\n",
      "Weight: 1\n",
      "Unit: kcal/mol, 627.5096\n",
      "Sigma: 1.0\n",
      "Source: MOPAC\n",
      ", ---\n",
      "Expression: +energy(\"hsh-SH1.05\")/1-energy(\"hshBase\")/1\n",
      "Weight: 1\n",
      "Unit: kcal/mol, 627.5096\n",
      "Sigma: 1.0\n",
      "Source: MOPAC\n",
      ", ---\n",
      "Expression: +energy(\"hsh-SH2.5\")/1-energy(\"hshBase\")/1\n",
      "Weight: 1\n",
      "Unit: kcal/mol, 627.5096\n",
      "Sigma: 1.0\n",
      "Source: MOPAC\n",
      ", ---\n",
      "Expression: +energy(\"hsh-SH1.7\")/1-energy(\"hshBase\")/1\n",
      "Weight: 1\n",
      "Unit: kcal/mol, 627.5096\n",
      "Sigma: 1.0\n",
      "Source: MOPAC\n",
      "]\n"
     ]
    }
   ],
   "source": [
    "for i in ts_energy:\n",
    "    i.reference = None\n",
    "    i.metadata['Source'] = 'MOPAC'\n",
    "print(ts_energy[:5])"
   ]
  },
  {
   "cell_type": "markdown",
   "metadata": {},
   "source": [
    "To run jobs, ParAMS is utilizing the `Settings` object from the [PLAMS](https://github.com/SCM-NV/PLAMS) library.\n",
    "The object allows to communicate with AMS trough a Python interface. Let us set up an object that represents a calculation with MOPAC (ignoring the `_ipython_canary_method_should_not_exist_` output):"
   ]
  },
  {
   "cell_type": "code",
   "execution_count": 7,
   "metadata": {},
   "outputs": [
    {
     "data": {
      "text/plain": [
       "_ipython_canary_method_should_not_exist_: \t<empty Settings>"
      ]
     },
     "execution_count": 7,
     "metadata": {},
     "output_type": "execute_result"
    }
   ],
   "source": [
    "from scm.plams import Settings\n",
    "s = Settings()\n",
    "s.input.mopac"
   ]
  },
  {
   "cell_type": "markdown",
   "metadata": {},
   "source": [
    "Jobs can now be easily calculated with the just created `Settings` instance:"
   ]
  },
  {
   "cell_type": "code",
   "execution_count": 9,
   "metadata": {},
   "outputs": [],
   "source": [
    "results = jc.run(s, jobids=ts_energy.jobids) # We limit the calculation of jobs to the ones in our `ts_energy`\n",
    "assert all(r.ok() for r in results.values())"
   ]
  },
  {
   "cell_type": "markdown",
   "metadata": {},
   "source": [
    "All that is now left to do is tell our Data Set to extract and store the reference results in question from the `results` object:"
   ]
  },
  {
   "cell_type": "code",
   "execution_count": 11,
   "metadata": {},
   "outputs": [
    {
     "name": "stdout",
     "output_type": "stream",
     "text": [
      "[---\n",
      "Expression: +energy(\"hsh-SH1.15\")/1-energy(\"hshBase\")/1\n",
      "Weight: 1\n",
      "Unit: kcal/mol, 627.5096\n",
      "ReferenceValue: 12.162557590982274\n",
      "Sigma: 1.0\n",
      "Source: MOPAC\n",
      ", ---\n",
      "Expression: +energy(\"hsh-SH7.5\")/1-energy(\"hshBase\")/1\n",
      "Weight: 1\n",
      "Unit: kcal/mol, 627.5096\n",
      "ReferenceValue: 182.08253572794663\n",
      "Sigma: 1.0\n",
      "Source: MOPAC\n",
      ", ---\n",
      "Expression: +energy(\"hsh-SH1.05\")/1-energy(\"hshBase\")/1\n",
      "Weight: 1\n",
      "Unit: kcal/mol, 627.5096\n",
      "ReferenceValue: 32.08357349265368\n",
      "Sigma: 1.0\n",
      "Source: MOPAC\n",
      ", ---\n",
      "Expression: +energy(\"hsh-SH2.5\")/1-energy(\"hshBase\")/1\n",
      "Weight: 1\n",
      "Unit: kcal/mol, 627.5096\n",
      "ReferenceValue: 102.35434747486192\n",
      "Sigma: 1.0\n",
      "Source: MOPAC\n",
      ", ---\n",
      "Expression: +energy(\"hsh-SH1.7\")/1-energy(\"hshBase\")/1\n",
      "Weight: 1\n",
      "Unit: kcal/mol, 627.5096\n",
      "ReferenceValue: 22.776021077786087\n",
      "Sigma: 1.0\n",
      "Source: MOPAC\n",
      "]\n"
     ]
    }
   ],
   "source": [
    "ts_energy.calculate_reference(results)\n",
    "print(ts_energy[:5])"
   ]
  },
  {
   "cell_type": "markdown",
   "metadata": {},
   "source": [
    "## Model Selection\n",
    "\n",
    "Different empirical models can be compared much in the same way as providing reference data.\n",
    "The loss value of a data set can be used in such a case."
   ]
  },
  {
   "cell_type": "code",
   "execution_count": 13,
   "metadata": {},
   "outputs": [
    {
     "name": "stdout",
     "output_type": "stream",
     "text": [
      "The MOPAC-MOPAC loss is 0.000e+00. Amazing!\n"
     ]
    }
   ],
   "source": [
    "# Compare the loss between MOPAC and MOPAC\n",
    "fx = ts_energy.evaluate(results)\n",
    "print(f\"The MOPAC-MOPAC loss is {fx:.3e}. Amazing!\")"
   ]
  },
  {
   "cell_type": "markdown",
   "metadata": {},
   "source": [
    "For a more realistic example, let's compare the original training set references to MOPAC and [UFF](https://pubs.acs.org/doi/10.1021/ja00051a040):"
   ]
  },
  {
   "cell_type": "code",
   "execution_count": 15,
   "metadata": {},
   "outputs": [
    {
     "name": "stdout",
     "output_type": "stream",
     "text": [
      "The MH-MOPAC loss is 1.476e+05\n",
      "The MH-UFF   loss is 1.466e+06\n"
     ]
    }
   ],
   "source": [
    "ts_energy = ts.energy() # Restore the subset's reference from the parent\n",
    "\n",
    "# UFF:\n",
    "s = Settings()\n",
    "s.input.forcefield\n",
    "results_uff = jc.run(s, jobids=ts_energy.jobids)\n",
    "assert all(r.ok() for r in results_uff.values())\n",
    "\n",
    "# Calculate the f(x)\n",
    "fx_mopac = ts_energy.evaluate(results)\n",
    "fx_uff   = ts_energy.evaluate(results_uff)\n",
    "\n",
    "print(f\"The MH-MOPAC loss is {fx_mopac:.3e}\")\n",
    "print(f\"The MH-UFF   loss is {fx_uff:.3e}\")"
   ]
  },
  {
   "cell_type": "markdown",
   "metadata": {},
   "source": [
    "By default, the loss function $L$ that is evaluated when `.evaluate()` is called is the [um of squared errors](https://en.wikipedia.org/wiki/Residual_sum_of_squares) (also known as the residual sum of squares).\n",
    "This can be easily changed by providing the _loss_ argument to the evaluator:"
   ]
  },
  {
   "cell_type": "code",
   "execution_count": 16,
   "metadata": {},
   "outputs": [
    {
     "name": "stdout",
     "output_type": "stream",
     "text": [
      "The MH-MOPAC RMSE loss is 2.596e+01\n",
      "The MH-UFF   RMSE loss is 8.183e+01\n"
     ]
    }
   ],
   "source": [
    "fx_mopac = ts_energy.evaluate(results,     loss='rmse')\n",
    "fx_uff   = ts_energy.evaluate(results_uff, loss='rmse')\n",
    "\n",
    "print(f\"The MH-MOPAC RMSE loss is {fx_mopac:.3e}\")\n",
    "print(f\"The MH-UFF   RMSE loss is {fx_uff:.3e}\")"
   ]
  },
  {
   "cell_type": "markdown",
   "metadata": {},
   "source": [
    "## Optimizer Selection\n",
    "todo"
   ]
  }
 ],
 "metadata": {
  "kernelspec": {
   "display_name": "Python 3",
   "language": "python",
   "name": "python3"
  },
  "language_info": {
   "codemirror_mode": {
    "name": "ipython",
    "version": 3
   },
   "file_extension": ".py",
   "mimetype": "text/x-python",
   "name": "python",
   "nbconvert_exporter": "python",
   "pygments_lexer": "ipython3",
   "version": "3.7.3"
  }
 },
 "nbformat": 4,
 "nbformat_minor": 2
}
